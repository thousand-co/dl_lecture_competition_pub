{
 "cells": [
  {
   "cell_type": "code",
   "execution_count": 4,
   "metadata": {},
   "outputs": [
    {
     "name": "stdout",
     "output_type": "stream",
     "text": [
      "\u001b[36mSubmission (4108, 1854) saved at ./outputs/2024-06-30/00-57-45\u001b[0m\n"
     ]
    },
    {
     "name": "stderr",
     "output_type": "stream",
     "text": [
      "\n",
      "Validation:   0%|          | 0/33 [00:00<?, ?it/s]\n",
      "Validation:   3%|▎         | 1/33 [00:05<03:09,  5.92s/it]\n",
      "Validation:   6%|▌         | 2/33 [00:06<01:18,  2.54s/it]\n",
      "Validation:   9%|▉         | 3/33 [00:06<00:43,  1.46s/it]\n",
      "Validation:  12%|█▏        | 4/33 [00:06<00:27,  1.06it/s]\n",
      "Validation:  15%|█▌        | 5/33 [00:06<00:18,  1.49it/s]\n",
      "Validation:  18%|█▊        | 6/33 [00:06<00:13,  2.00it/s]\n",
      "Validation:  21%|██        | 7/33 [00:06<00:10,  2.54it/s]\n",
      "Validation:  24%|██▍       | 8/33 [00:07<00:07,  3.13it/s]\n",
      "Validation:  27%|██▋       | 9/33 [00:07<00:06,  3.70it/s]\n",
      "Validation:  30%|███       | 10/33 [00:07<00:05,  4.18it/s]\n",
      "Validation:  33%|███▎      | 11/33 [00:07<00:04,  4.64it/s]\n",
      "Validation:  36%|███▋      | 12/33 [00:07<00:04,  5.01it/s]\n",
      "Validation:  39%|███▉      | 13/33 [00:07<00:03,  5.24it/s]\n",
      "Validation:  42%|████▏     | 14/33 [00:08<00:03,  5.49it/s]\n",
      "Validation:  45%|████▌     | 15/33 [00:08<00:03,  5.69it/s]\n",
      "Validation:  48%|████▊     | 16/33 [00:08<00:02,  5.83it/s]\n",
      "Validation:  52%|█████▏    | 17/33 [00:08<00:02,  5.74it/s]\n",
      "Validation:  55%|█████▍    | 18/33 [00:08<00:02,  5.83it/s]\n",
      "Validation:  58%|█████▊    | 19/33 [00:08<00:02,  5.84it/s]\n",
      "Validation:  61%|██████    | 20/33 [00:09<00:02,  5.90it/s]\n",
      "Validation:  64%|██████▎   | 21/33 [00:09<00:02,  5.92it/s]\n",
      "Validation:  67%|██████▋   | 22/33 [00:09<00:01,  5.89it/s]\n",
      "Validation:  70%|██████▉   | 23/33 [00:09<00:01,  5.97it/s]\n",
      "Validation:  73%|███████▎  | 24/33 [00:09<00:01,  5.85it/s]\n",
      "Validation:  76%|███████▌  | 25/33 [00:09<00:01,  6.03it/s]\n",
      "Validation:  79%|███████▉  | 26/33 [00:10<00:01,  5.97it/s]\n",
      "Validation:  82%|████████▏ | 27/33 [00:10<00:00,  6.03it/s]\n",
      "Validation:  85%|████████▍ | 28/33 [00:10<00:00,  6.06it/s]\n",
      "Validation:  88%|████████▊ | 29/33 [00:10<00:00,  6.09it/s]\n",
      "Validation:  91%|█████████ | 30/33 [00:10<00:00,  6.10it/s]\n",
      "Validation:  94%|█████████▍| 31/33 [00:10<00:00,  6.17it/s]\n",
      "Validation:  97%|█████████▋| 32/33 [00:11<00:00,  6.23it/s]\n",
      "Validation: 100%|██████████| 33/33 [00:11<00:00,  2.77it/s]\n"
     ]
    }
   ],
   "source": [
    "!python eval.py model_path=./outputs/2024-06-30/08-22-22/model_best_normal_0.pt"
   ]
  }
 ],
 "metadata": {
  "kernelspec": {
   "display_name": ".venv",
   "language": "python",
   "name": "python3"
  },
  "language_info": {
   "codemirror_mode": {
    "name": "ipython",
    "version": 3
   },
   "file_extension": ".py",
   "mimetype": "text/x-python",
   "name": "python",
   "nbconvert_exporter": "python",
   "pygments_lexer": "ipython3",
   "version": "3.11.9"
  }
 },
 "nbformat": 4,
 "nbformat_minor": 2
}
