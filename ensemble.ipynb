{
 "cells": [
  {
   "cell_type": "code",
   "execution_count": 1,
   "metadata": {},
   "outputs": [],
   "source": [
    "import os, sys\n",
    "import numpy as np\n",
    "import torch\n",
    "import torch.nn.functional as F\n",
    "from torchmetrics import Accuracy\n",
    "import hydra\n",
    "from omegaconf import DictConfig\n",
    "import wandb\n",
    "from termcolor import cprint\n",
    "from tqdm import tqdm\n",
    "\n",
    "from src.dataug import DatAugmentation\n",
    "#from src.datasets import ThingsMEGDataset\n",
    "from src.datasets import ThingsMEGDataset_aug1\n",
    "from src.models import BasicConvClassifier\n",
    "from src.models_res import Bottleneck, ResNet\n",
    "from src.utils import set_seed, set_lr, CosineScheduler\n",
    "\n",
    "from torchvision import transforms, models\n",
    "import torchaudio\n",
    "import mne\n",
    "from scipy.signal import stft\n",
    "from sklearn.decomposition import FastICA, PCA"
   ]
  },
  {
   "cell_type": "markdown",
   "metadata": {},
   "source": [
    "model_name='model_best_normal_0.pt'  \n",
    "out_name='submission_normal_0.npy'  "
   ]
  },
  {
   "cell_type": "code",
   "execution_count": 2,
   "metadata": {},
   "outputs": [],
   "source": [
    "outputs_path='./outputs/2024-06-30/08-22-22/'"
   ]
  },
  {
   "cell_type": "markdown",
   "metadata": {},
   "source": [
    "出力ファイルのマージ"
   ]
  },
  {
   "cell_type": "code",
   "execution_count": 3,
   "metadata": {},
   "outputs": [
    {
     "name": "stdout",
     "output_type": "stream",
     "text": [
      "\u001b[36mSubmission (16432, 1854) saved at ./outputs/2024-06-30/08-22-22/\u001b[0m\n"
     ]
    }
   ],
   "source": [
    "id_list=['_0', '_1', '_2', '_3']\n",
    "aug_list=['_normal', '_spectgram', '_spectgram_log', '_bandpass_l', '_bandpass_h']\n",
    "aug='_normal'\n",
    "for i, id in enumerate(id_list):\n",
    "    tmp=np.load(outputs_path+'submission'+aug+id+'.npy')\n",
    "    if i==0:\n",
    "        arr=tmp\n",
    "    else:\n",
    "        arr=np.concatenate((arr, tmp), axis=0)\n",
    "\n",
    "np.save(os.path.join(outputs_path, 'submission'), arr)\n",
    "cprint(f\"Submission {arr.shape} saved at {outputs_path}\", \"cyan\")"
   ]
  }
 ],
 "metadata": {
  "kernelspec": {
   "display_name": ".venv",
   "language": "python",
   "name": "python3"
  },
  "language_info": {
   "codemirror_mode": {
    "name": "ipython",
    "version": 3
   },
   "file_extension": ".py",
   "mimetype": "text/x-python",
   "name": "python",
   "nbconvert_exporter": "python",
   "pygments_lexer": "ipython3",
   "version": "3.11.9"
  }
 },
 "nbformat": 4,
 "nbformat_minor": 2
}
