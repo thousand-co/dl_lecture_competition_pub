{
 "cells": [
  {
   "cell_type": "code",
   "execution_count": 1,
   "metadata": {},
   "outputs": [],
   "source": [
    "import torch\n",
    "import os\n",
    "import numpy as np\n",
    "import pandas as pd\n",
    "import matplotlib.pyplot as plt\n",
    "import mne\n",
    "\n",
    "data_dir='./data'\n",
    "data_type='test_'\n",
    "if data_type=='val_':\n",
    "    X = torch.load(os.path.join(data_dir, f\"val_X.pt\"))\n",
    "    y = torch.load(os.path.join(data_dir, f\"val_y.pt\"))\n",
    "    idx = torch.load(os.path.join(data_dir, f\"val_subject_idxs.pt\"))\n",
    "elif data_type=='train_':\n",
    "    X = torch.load(os.path.join(data_dir, f\"train_X.pt\"))\n",
    "    y = torch.load(os.path.join(data_dir, f\"train_y.pt\"))\n",
    "    idx = torch.load(os.path.join(data_dir, f\"train_subject_idxs.pt\"))\n",
    "elif data_type=='test_':\n",
    "    X = torch.load(os.path.join(data_dir, f\"test_X.pt\"))\n",
    "    idx = torch.load(os.path.join(data_dir, f\"test_subject_idxs.pt\"))"
   ]
  },
  {
   "cell_type": "code",
   "execution_count": 2,
   "metadata": {},
   "outputs": [
    {
     "data": {
      "text/plain": [
       "[<matplotlib.lines.Line2D at 0x22e07f82cd0>]"
      ]
     },
     "execution_count": 2,
     "metadata": {},
     "output_type": "execute_result"
    },
    {
     "data": {
      "image/png": "[encoded data removed]",
      "text/plain": [
       "<Figure size 640x480 with 1 Axes>"
      ]
     },
     "metadata": {},
     "output_type": "display_data"
    }
   ],
   "source": [
    "arr=idx.to('cpu').detach().numpy().copy()\n",
    "plt.plot(arr)"
   ]
  },
  {
   "cell_type": "code",
   "execution_count": 3,
   "metadata": {},
   "outputs": [
    {
     "data": {
      "text/html": [
       "<div>\n",
       "<style scoped>\n",
       "    .dataframe tbody tr th:only-of-type {\n",
       "        vertical-align: middle;\n",
       "    }\n",
       "\n",
       "    .dataframe tbody tr th {\n",
       "        vertical-align: top;\n",
       "    }\n",
       "\n",
       "    .dataframe thead th {\n",
       "        text-align: right;\n",
       "    }\n",
       "</style>\n",
       "<table border=\"1\" class=\"dataframe\">\n",
       "  <thead>\n",
       "    <tr style=\"text-align: right;\">\n",
       "      <th></th>\n",
       "      <th>idx</th>\n",
       "    </tr>\n",
       "  </thead>\n",
       "  <tbody>\n",
       "    <tr>\n",
       "      <th>0</th>\n",
       "      <td>0</td>\n",
       "    </tr>\n",
       "    <tr>\n",
       "      <th>1</th>\n",
       "      <td>0</td>\n",
       "    </tr>\n",
       "    <tr>\n",
       "      <th>2</th>\n",
       "      <td>0</td>\n",
       "    </tr>\n",
       "    <tr>\n",
       "      <th>3</th>\n",
       "      <td>0</td>\n",
       "    </tr>\n",
       "    <tr>\n",
       "      <th>4</th>\n",
       "      <td>0</td>\n",
       "    </tr>\n",
       "    <tr>\n",
       "      <th>...</th>\n",
       "      <td>...</td>\n",
       "    </tr>\n",
       "    <tr>\n",
       "      <th>16427</th>\n",
       "      <td>3</td>\n",
       "    </tr>\n",
       "    <tr>\n",
       "      <th>16428</th>\n",
       "      <td>3</td>\n",
       "    </tr>\n",
       "    <tr>\n",
       "      <th>16429</th>\n",
       "      <td>3</td>\n",
       "    </tr>\n",
       "    <tr>\n",
       "      <th>16430</th>\n",
       "      <td>3</td>\n",
       "    </tr>\n",
       "    <tr>\n",
       "      <th>16431</th>\n",
       "      <td>3</td>\n",
       "    </tr>\n",
       "  </tbody>\n",
       "</table>\n",
       "<p>16432 rows × 1 columns</p>\n",
       "</div>"
      ],
      "text/plain": [
       "       idx\n",
       "0        0\n",
       "1        0\n",
       "2        0\n",
       "3        0\n",
       "4        0\n",
       "...    ...\n",
       "16427    3\n",
       "16428    3\n",
       "16429    3\n",
       "16430    3\n",
       "16431    3\n",
       "\n",
       "[16432 rows x 1 columns]"
      ]
     },
     "execution_count": 3,
     "metadata": {},
     "output_type": "execute_result"
    }
   ],
   "source": [
    "df=pd.DataFrame(arr)\n",
    "df.columns=['idx']\n",
    "df"
   ]
  },
  {
   "cell_type": "code",
   "execution_count": 4,
   "metadata": {},
   "outputs": [
    {
     "data": {
      "text/plain": [
       "idx\n",
       "0    4108\n",
       "1    4108\n",
       "2    4108\n",
       "3    4108\n",
       "Name: idx, dtype: int64"
      ]
     },
     "execution_count": 4,
     "metadata": {},
     "output_type": "execute_result"
    }
   ],
   "source": [
    "gp_sr=df.groupby('idx')['idx'].count()\n",
    "gp_sr"
   ]
  },
  {
   "cell_type": "code",
   "execution_count": 5,
   "metadata": {},
   "outputs": [
    {
     "data": {
      "text/plain": [
       "4108"
      ]
     },
     "execution_count": 5,
     "metadata": {},
     "output_type": "execute_result"
    }
   ],
   "source": [
    "n=gp_sr[0]\n",
    "n"
   ]
  },
  {
   "cell_type": "code",
   "execution_count": 6,
   "metadata": {},
   "outputs": [
    {
     "data": {
      "text/plain": [
       "torch.Size([16432, 271, 281])"
      ]
     },
     "execution_count": 6,
     "metadata": {},
     "output_type": "execute_result"
    }
   ],
   "source": [
    "X.shape"
   ]
  },
  {
   "cell_type": "code",
   "execution_count": 7,
   "metadata": {},
   "outputs": [],
   "source": [
    "idx0=list(range(0, n))\n",
    "idx1=list(range(n, n*2))\n",
    "idx2=list(range(n*2, n*3))\n",
    "idx3=list(range(n*3, n*4))"
   ]
  },
  {
   "cell_type": "code",
   "execution_count": 8,
   "metadata": {},
   "outputs": [],
   "source": [
    "X_0=X[idx0]\n",
    "X_1=X[idx1]\n",
    "X_2=X[idx2]\n",
    "X_3=X[idx3]"
   ]
  },
  {
   "cell_type": "code",
   "execution_count": 11,
   "metadata": {},
   "outputs": [],
   "source": [
    "if data_type!='test_':\n",
    "    y_0=y[idx0]\n",
    "    y_1=y[idx1]\n",
    "    y_2=y[idx2]\n",
    "    y_3=y[idx3]"
   ]
  },
  {
   "cell_type": "code",
   "execution_count": null,
   "metadata": {},
   "outputs": [],
   "source": [
    "if data_type!='test_':\n",
    "    save_dir='./data_spl/'\n",
    "    torch.save(X_0, save_dir+data_type+'X_0.pt')\n",
    "    torch.save(X_1, save_dir+data_type+'X_1.pt')\n",
    "    torch.save(X_2, save_dir+data_type+'X_2.pt')\n",
    "    torch.save(X_3, save_dir+data_type+'X_3.pt')\n",
    "    torch.save(y_0, save_dir+data_type+'y_0.pt')\n",
    "    torch.save(y_1, save_dir+data_type+'y_1.pt')\n",
    "    torch.save(y_2, save_dir+data_type+'y_2.pt')\n",
    "    torch.save(y_3, save_dir+data_type+'y_3.pt')"
   ]
  },
  {
   "cell_type": "code",
   "execution_count": 10,
   "metadata": {},
   "outputs": [],
   "source": [
    "if data_type=='test_':\n",
    "    save_dir='./data_spl/'\n",
    "    torch.save(X_0, save_dir+data_type+'X_0.pt')\n",
    "    torch.save(X_1, save_dir+data_type+'X_1.pt')\n",
    "    torch.save(X_2, save_dir+data_type+'X_2.pt')\n",
    "    torch.save(X_3, save_dir+data_type+'X_3.pt')"
   ]
  }
 ],
 "metadata": {
  "kernelspec": {
   "display_name": ".venv",
   "language": "python",
   "name": "python3"
  },
  "language_info": {
   "codemirror_mode": {
    "name": "ipython",
    "version": 3
   },
   "file_extension": ".py",
   "mimetype": "text/x-python",
   "name": "python",
   "nbconvert_exporter": "python",
   "pygments_lexer": "ipython3",
   "version": "3.11.9"
  }
 },
 "nbformat": 4,
 "nbformat_minor": 2
}
