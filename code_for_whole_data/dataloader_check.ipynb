{
 "cells": [
  {
   "cell_type": "code",
   "execution_count": 70,
   "metadata": {},
   "outputs": [],
   "source": [
    "import numpy as np\n",
    "import pandas as pd\n",
    "import torch\n",
    "from PIL import Image\n",
    "import os\n",
    "import matplotlib.pyplot as plt\n",
    "\n",
    "data_path='./Images/'\n",
    "x_df = pd.read_csv('./data/val_image_paths_rev.txt', header=None).squeeze().to_numpy()\n",
    "t_df = torch.load('./data/val_y.pt')"
   ]
  },
  {
   "cell_type": "code",
   "execution_count": 71,
   "metadata": {},
   "outputs": [
    {
     "data": {
      "text/plain": [
       "array(['windshield/windshield_08s.jpg', 'mango/mango_13s.jpg',\n",
       "       'brownie/brownie_08s.jpg', ..., 'steamroller/steamroller_07n.jpg',\n",
       "       'coffee_filter/coffee_filter_07s.jpg',\n",
       "       'microscope/microscope_14n.jpg'], dtype=object)"
      ]
     },
     "execution_count": 71,
     "metadata": {},
     "output_type": "execute_result"
    }
   ],
   "source": [
    "x_df"
   ]
  },
  {
   "cell_type": "code",
   "execution_count": 72,
   "metadata": {},
   "outputs": [
    {
     "data": {
      "text/plain": [
       "tensor([1820,  966,  204,  ..., 1545,  379,  999])"
      ]
     },
     "execution_count": 72,
     "metadata": {},
     "output_type": "execute_result"
    }
   ],
   "source": [
    "t_df"
   ]
  },
  {
   "cell_type": "code",
   "execution_count": 73,
   "metadata": {},
   "outputs": [],
   "source": [
    "img=np.array(Image.open(os.path.join(data_path,x_df[150])).resize((32,32)))"
   ]
  },
  {
   "cell_type": "code",
   "execution_count": 74,
   "metadata": {},
   "outputs": [
    {
     "data": {
      "text/plain": [
       "(32, 32, 3)"
      ]
     },
     "execution_count": 74,
     "metadata": {},
     "output_type": "execute_result"
    }
   ],
   "source": [
    "img.shape"
   ]
  },
  {
   "cell_type": "code",
   "execution_count": 75,
   "metadata": {},
   "outputs": [
    {
     "data": {
      "text/plain": [
       "<matplotlib.image.AxesImage at 0x15137e92f90>"
      ]
     },
     "execution_count": 75,
     "metadata": {},
     "output_type": "execute_result"
    },
    {
     "data": {
      "image/png": "[encoded data removed]",
      "text/plain": [
       "<Figure size 640x480 with 1 Axes>"
      ]
     },
     "metadata": {},
     "output_type": "display_data"
    }
   ],
   "source": [
    "plt.imshow(img)"
   ]
  },
  {
   "cell_type": "code",
   "execution_count": 76,
   "metadata": {},
   "outputs": [
    {
     "data": {
      "text/html": [
       "<div>\n",
       "<style scoped>\n",
       "    .dataframe tbody tr th:only-of-type {\n",
       "        vertical-align: middle;\n",
       "    }\n",
       "\n",
       "    .dataframe tbody tr th {\n",
       "        vertical-align: top;\n",
       "    }\n",
       "\n",
       "    .dataframe thead th {\n",
       "        text-align: right;\n",
       "    }\n",
       "</style>\n",
       "<table border=\"1\" class=\"dataframe\">\n",
       "  <thead>\n",
       "    <tr style=\"text-align: right;\">\n",
       "      <th></th>\n",
       "      <th>fpath</th>\n",
       "      <th>y</th>\n",
       "    </tr>\n",
       "  </thead>\n",
       "  <tbody>\n",
       "    <tr>\n",
       "      <th>0</th>\n",
       "      <td>./Images/vest/vest_10s.jpg</td>\n",
       "      <td>1759</td>\n",
       "    </tr>\n",
       "    <tr>\n",
       "      <th>1</th>\n",
       "      <td>./Images/fencepost/fencepost_10s.jpg</td>\n",
       "      <td>576</td>\n",
       "    </tr>\n",
       "    <tr>\n",
       "      <th>2</th>\n",
       "      <td>./Images/fondue/fondue_10s.jpg</td>\n",
       "      <td>626</td>\n",
       "    </tr>\n",
       "    <tr>\n",
       "      <th>3</th>\n",
       "      <td>./Images/camel/camel_10s.jpg</td>\n",
       "      <td>245</td>\n",
       "    </tr>\n",
       "    <tr>\n",
       "      <th>4</th>\n",
       "      <td>./Images/stingray/stingray_10s.jpg</td>\n",
       "      <td>1556</td>\n",
       "    </tr>\n",
       "    <tr>\n",
       "      <th>...</th>\n",
       "      <td>...</td>\n",
       "      <td>...</td>\n",
       "    </tr>\n",
       "    <tr>\n",
       "      <th>65723</th>\n",
       "      <td>./Images/hole/hole_08s.jpg</td>\n",
       "      <td>785</td>\n",
       "    </tr>\n",
       "    <tr>\n",
       "      <th>65724</th>\n",
       "      <td>./Images/candelabra/candelabra_14s.jpg</td>\n",
       "      <td>252</td>\n",
       "    </tr>\n",
       "    <tr>\n",
       "      <th>65725</th>\n",
       "      <td>./Images/skin/skin_08s.jpg</td>\n",
       "      <td>1456</td>\n",
       "    </tr>\n",
       "    <tr>\n",
       "      <th>65726</th>\n",
       "      <td>./Images/manhole/manhole_17n.jpg</td>\n",
       "      <td>967</td>\n",
       "    </tr>\n",
       "    <tr>\n",
       "      <th>65727</th>\n",
       "      <td>./Images/eggbeater/eggbeater_08s.jpg</td>\n",
       "      <td>548</td>\n",
       "    </tr>\n",
       "  </tbody>\n",
       "</table>\n",
       "<p>65728 rows × 2 columns</p>\n",
       "</div>"
      ],
      "text/plain": [
       "                                        fpath     y\n",
       "0                  ./Images/vest/vest_10s.jpg  1759\n",
       "1        ./Images/fencepost/fencepost_10s.jpg   576\n",
       "2              ./Images/fondue/fondue_10s.jpg   626\n",
       "3                ./Images/camel/camel_10s.jpg   245\n",
       "4          ./Images/stingray/stingray_10s.jpg  1556\n",
       "...                                       ...   ...\n",
       "65723              ./Images/hole/hole_08s.jpg   785\n",
       "65724  ./Images/candelabra/candelabra_14s.jpg   252\n",
       "65725              ./Images/skin/skin_08s.jpg  1456\n",
       "65726        ./Images/manhole/manhole_17n.jpg   967\n",
       "65727    ./Images/eggbeater/eggbeater_08s.jpg   548\n",
       "\n",
       "[65728 rows x 2 columns]"
      ]
     },
     "execution_count": 76,
     "metadata": {},
     "output_type": "execute_result"
    }
   ],
   "source": [
    "data_path='./Images/'\n",
    "train_x_df=pd.read_csv('./data/train_image_paths_rev.txt', header=None)\n",
    "train_y_df=pd.DataFrame(torch.load('./data/train_y.pt'))\n",
    "train_df=pd.concat([train_x_df, train_y_df], axis=1)\n",
    "train_df.columns=['fpath', 'y']\n",
    "train_df.fpath=train_df.fpath.map(lambda x: data_path+x)\n",
    "train_df"
   ]
  },
  {
   "cell_type": "code",
   "execution_count": 77,
   "metadata": {},
   "outputs": [],
   "source": [
    "class train_dataset(torch.utils.data.Dataset):\n",
    "    def __init__(self, df, outsize, transform=None):\n",
    "        self.train_df=df\n",
    "        self.fpath_list = df[\"fpath\"].to_list()\n",
    "        self.y_list=df[\"y\"].to_list()\n",
    "        self.outsize = outsize\n",
    "        self.len = len(self.fpath_list)\n",
    "        self.transform = transform\n",
    "\n",
    "    def __len__(self):\n",
    "        return self.len\n",
    "\n",
    "    def __getitem__(self, idx):\n",
    "        image_path = self.fpath_list[idx]\n",
    "        \n",
    "        # 画像の読込\n",
    "        image = Image.open(image_path)\n",
    "        image = image.resize(self.outsize)\n",
    "        image = np.array(image)\n",
    "\n",
    "        if self.transform:\n",
    "            transformed = self.transform(image=image)\n",
    "            image = transformed['image']\n",
    "        else:\n",
    "            image = np.array(image).astype(np.uint8).transpose(2, 1, 0)\n",
    "\n",
    "        y = self.y_list[idx]\n",
    "\n",
    "        path = self.fpath_list[idx]\n",
    "\n",
    "        return image, y"
   ]
  },
  {
   "cell_type": "code",
   "execution_count": 78,
   "metadata": {},
   "outputs": [],
   "source": [
    "train_data = train_dataset(train_df[:12], (32, 32), )"
   ]
  },
  {
   "cell_type": "code",
   "execution_count": 79,
   "metadata": {},
   "outputs": [
    {
     "name": "stdout",
     "output_type": "stream",
     "text": [
      "(3, 32, 32) <class 'numpy.ndarray'> 1759 12\n"
     ]
    },
    {
     "data": {
      "text/plain": [
       "<matplotlib.image.AxesImage at 0x15137e60810>"
      ]
     },
     "execution_count": 79,
     "metadata": {},
     "output_type": "execute_result"
    },
    {
     "data": {
      "image/png": "[encoded data removed]",
      "text/plain": [
       "<Figure size 640x480 with 1 Axes>"
      ]
     },
     "metadata": {},
     "output_type": "display_data"
    }
   ],
   "source": [
    "X,y=train_data[0]\n",
    "print(X.shape, type(X), y, len(train_data))\n",
    "plt.imshow(X.transpose(2, 1, 0).astype(np.uint8))"
   ]
  },
  {
   "cell_type": "code",
   "execution_count": 80,
   "metadata": {},
   "outputs": [],
   "source": [
    "batch_size=4\n",
    "dataloader_train = torch.utils.data.DataLoader(\n",
    "    train_data,\n",
    "    batch_size=batch_size,\n",
    "    shuffle=True,\n",
    "    num_workers=0,\n",
    "    pin_memory=True,\n",
    "    #persistent_workers=True\n",
    ")"
   ]
  },
  {
   "cell_type": "code",
   "execution_count": 81,
   "metadata": {},
   "outputs": [
    {
     "name": "stdout",
     "output_type": "stream",
     "text": [
      "torch.Size([4, 3, 32, 32]) <class 'torch.Tensor'>\n"
     ]
    }
   ],
   "source": [
    "Iter=iter(dataloader_train)\n",
    "batch1, y1=next(Iter)\n",
    "print(batch1.shape, type(batch1))"
   ]
  },
  {
   "cell_type": "code",
   "execution_count": 82,
   "metadata": {},
   "outputs": [
    {
     "name": "stdout",
     "output_type": "stream",
     "text": [
      "torch.Size([4, 3, 32, 32]) <class 'torch.Tensor'>\n",
      "torch.Size([4]) <class 'torch.Tensor'>\n",
      "=========\n",
      "torch.Size([4, 3, 32, 32]) <class 'torch.Tensor'>\n",
      "torch.Size([4]) <class 'torch.Tensor'>\n",
      "=========\n",
      "torch.Size([4, 3, 32, 32]) <class 'torch.Tensor'>\n",
      "torch.Size([4]) <class 'torch.Tensor'>\n",
      "=========\n"
     ]
    }
   ],
   "source": [
    "#先頭から3つのバッチを確認\n",
    "cnt = 0\n",
    "for data in dataloader_train:\n",
    "    print(data[0].shape, type(data[0]))\n",
    "    print(data[1].shape, type(data[1]))\n",
    "    print(\"=========\")\n",
    "    cnt += 1\n",
    "    if cnt==3:\n",
    "        break"
   ]
  },
  {
   "cell_type": "code",
   "execution_count": 83,
   "metadata": {},
   "outputs": [
    {
     "data": {
      "image/png": "[encoded data removed]",
      "text/plain": [
       "<Figure size 1000x1000 with 4 Axes>"
      ]
     },
     "metadata": {},
     "output_type": "display_data"
    }
   ],
   "source": [
    "# 画像を出力\n",
    "plt.figure(figsize = (10, 10))\n",
    "\n",
    "for i in range(batch1.shape[0]):\n",
    "    plt.subplot(batch1.shape[0]//4+1, 4, i+1)\n",
    "    plt.title(f\"image {i}\")\n",
    "    plt.axis(\"off\")\n",
    "    plt.imshow(batch1[i, :, :, :].numpy().transpose(2, 1, 0))\n",
    "\n",
    "plt.tight_layout()"
   ]
  },
  {
   "cell_type": "code",
   "execution_count": 84,
   "metadata": {},
   "outputs": [
    {
     "data": {
      "text/plain": [
       "torch.Size([282, 282])"
      ]
     },
     "execution_count": 84,
     "metadata": {},
     "output_type": "execute_result"
    }
   ],
   "source": [
    "a=torch.randn((271,281))\n",
    "b=torch.zeros((271,1))\n",
    "c=torch.zeros((11,282))\n",
    "d=torch.cat((a,b), dim=1)\n",
    "e=torch.cat((d,c), dim=0)\n",
    "e.shape"
   ]
  }
 ],
 "metadata": {
  "kernelspec": {
   "display_name": ".venv",
   "language": "python",
   "name": "python3"
  },
  "language_info": {
   "codemirror_mode": {
    "name": "ipython",
    "version": 3
   },
   "file_extension": ".py",
   "mimetype": "text/x-python",
   "name": "python",
   "nbconvert_exporter": "python",
   "pygments_lexer": "ipython3",
   "version": "3.11.9"
  }
 },
 "nbformat": 4,
 "nbformat_minor": 2
}
