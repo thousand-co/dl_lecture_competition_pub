{
 "cells": [
  {
   "cell_type": "code",
   "execution_count": 1,
   "metadata": {},
   "outputs": [],
   "source": [
    "#import matplotlib.pyplot as plt\n",
    "import pandas as pd\n",
    "import numpy as np\n",
    "from PIL import Image\n",
    "import os\n",
    "import torch\n",
    "\n",
    "imfolder='./Images/'"
   ]
  },
  {
   "cell_type": "code",
   "execution_count": 2,
   "metadata": {},
   "outputs": [
    {
     "data": {
      "text/plain": [
       "array(['./Images/vest/vest_10s.jpg',\n",
       "       './Images/fencepost/fencepost_10s.jpg',\n",
       "       './Images/fondue/fondue_10s.jpg', ...,\n",
       "       './Images/diving_board/diving_board_08s.jpg',\n",
       "       './Images/pacifier/pacifier_08s.jpg',\n",
       "       './Images/baseball/baseball_08s.jpg'], dtype=object)"
      ]
     },
     "execution_count": 2,
     "metadata": {},
     "output_type": "execute_result"
    }
   ],
   "source": [
    "df1=pd.read_csv('./data/train_image_paths_rev.txt', header=None)\n",
    "df1.columns=['fpath']\n",
    "df1['fpath']=df1['fpath'].map(lambda x: os.path.join(imfolder, x))\n",
    "df1=df1.fpath.unique()\n",
    "df1"
   ]
  },
  {
   "cell_type": "code",
   "execution_count": 3,
   "metadata": {},
   "outputs": [
    {
     "data": {
      "text/plain": [
       "(22448,)"
      ]
     },
     "execution_count": 3,
     "metadata": {},
     "output_type": "execute_result"
    }
   ],
   "source": [
    "df1.shape"
   ]
  },
  {
   "cell_type": "code",
   "execution_count": 4,
   "metadata": {},
   "outputs": [],
   "source": [
    "for i, raw in enumerate(df1):\n",
    "    image = Image.open(raw)\n",
    "    image = image.resize((48,48))\n",
    "    image = np.array(image).astype(np.uint8)#.transpose(2, 1, 0)\n",
    "    image = torch.tensor(image).unsqueeze(0)\n",
    "    if i==0:\n",
    "        image_ts = image\n",
    "    else:\n",
    "        image_ts = torch.cat((image_ts, image))"
   ]
  },
  {
   "cell_type": "code",
   "execution_count": 5,
   "metadata": {},
   "outputs": [
    {
     "data": {
      "text/plain": [
       "torch.Size([22448, 48, 48, 3])"
      ]
     },
     "execution_count": 5,
     "metadata": {},
     "output_type": "execute_result"
    }
   ],
   "source": [
    "image_ts.shape"
   ]
  },
  {
   "cell_type": "code",
   "execution_count": 6,
   "metadata": {},
   "outputs": [],
   "source": [
    "torch.save(image_ts, './data/train_image.pt')"
   ]
  },
  {
   "cell_type": "code",
   "execution_count": 44,
   "metadata": {},
   "outputs": [],
   "source": [
    "df_tmp=pd.DataFrame(df1)\n",
    "df_tmp.columns=['fpath']\n",
    "df_tmp['fname']=df_tmp.fpath.map(lambda x: x.split('/')[2])\n",
    "df_tmp.fname.to_csv('./data/train_image_name.txt', header=False, index=False)"
   ]
  },
  {
   "cell_type": "code",
   "execution_count": 81,
   "metadata": {},
   "outputs": [
    {
     "data": {
      "text/html": [
       "<div>\n",
       "<style scoped>\n",
       "    .dataframe tbody tr th:only-of-type {\n",
       "        vertical-align: middle;\n",
       "    }\n",
       "\n",
       "    .dataframe tbody tr th {\n",
       "        vertical-align: top;\n",
       "    }\n",
       "\n",
       "    .dataframe thead th {\n",
       "        text-align: right;\n",
       "    }\n",
       "</style>\n",
       "<table border=\"1\" class=\"dataframe\">\n",
       "  <thead>\n",
       "    <tr style=\"text-align: right;\">\n",
       "      <th></th>\n",
       "      <th>fpath</th>\n",
       "      <th>y</th>\n",
       "    </tr>\n",
       "  </thead>\n",
       "  <tbody>\n",
       "    <tr>\n",
       "      <th>0</th>\n",
       "      <td>vest/vest_10s.jpg</td>\n",
       "      <td>1759</td>\n",
       "    </tr>\n",
       "    <tr>\n",
       "      <th>1</th>\n",
       "      <td>fencepost/fencepost_10s.jpg</td>\n",
       "      <td>576</td>\n",
       "    </tr>\n",
       "    <tr>\n",
       "      <th>2</th>\n",
       "      <td>fondue/fondue_10s.jpg</td>\n",
       "      <td>626</td>\n",
       "    </tr>\n",
       "    <tr>\n",
       "      <th>3</th>\n",
       "      <td>camel/camel_10s.jpg</td>\n",
       "      <td>245</td>\n",
       "    </tr>\n",
       "    <tr>\n",
       "      <th>4</th>\n",
       "      <td>stingray/stingray_10s.jpg</td>\n",
       "      <td>1556</td>\n",
       "    </tr>\n",
       "    <tr>\n",
       "      <th>...</th>\n",
       "      <td>...</td>\n",
       "      <td>...</td>\n",
       "    </tr>\n",
       "    <tr>\n",
       "      <th>22443</th>\n",
       "      <td>tuba/tuba_08s.jpg</td>\n",
       "      <td>1723</td>\n",
       "    </tr>\n",
       "    <tr>\n",
       "      <th>22444</th>\n",
       "      <td>magnifying_glass/magnifying_glass_08s.jpg</td>\n",
       "      <td>958</td>\n",
       "    </tr>\n",
       "    <tr>\n",
       "      <th>22445</th>\n",
       "      <td>diving_board/diving_board_08s.jpg</td>\n",
       "      <td>494</td>\n",
       "    </tr>\n",
       "    <tr>\n",
       "      <th>22446</th>\n",
       "      <td>pacifier/pacifier_08s.jpg</td>\n",
       "      <td>1093</td>\n",
       "    </tr>\n",
       "    <tr>\n",
       "      <th>22447</th>\n",
       "      <td>baseball/baseball_08s.jpg</td>\n",
       "      <td>78</td>\n",
       "    </tr>\n",
       "  </tbody>\n",
       "</table>\n",
       "<p>22448 rows × 2 columns</p>\n",
       "</div>"
      ],
      "text/plain": [
       "                                           fpath     y\n",
       "0                              vest/vest_10s.jpg  1759\n",
       "1                    fencepost/fencepost_10s.jpg   576\n",
       "2                          fondue/fondue_10s.jpg   626\n",
       "3                            camel/camel_10s.jpg   245\n",
       "4                      stingray/stingray_10s.jpg  1556\n",
       "...                                          ...   ...\n",
       "22443                          tuba/tuba_08s.jpg  1723\n",
       "22444  magnifying_glass/magnifying_glass_08s.jpg   958\n",
       "22445          diving_board/diving_board_08s.jpg   494\n",
       "22446                  pacifier/pacifier_08s.jpg  1093\n",
       "22447                  baseball/baseball_08s.jpg    78\n",
       "\n",
       "[22448 rows x 2 columns]"
      ]
     },
     "execution_count": 81,
     "metadata": {},
     "output_type": "execute_result"
    }
   ],
   "source": [
    "df11=pd.read_csv('./data/train_image_paths_rev.txt', header=None).to_numpy()\n",
    "df22=torch.load('./data/train_y.pt').numpy().reshape(-1,1)\n",
    "df_m=np.concatenate([df11, df22], axis=1)\n",
    "df_m=pd.DataFrame(df_m)\n",
    "df_m.columns=(['fpath', 'y'])\n",
    "df_m_unq=df_m.drop_duplicates().reset_index(drop=True)\n",
    "df_m_unq"
   ]
  },
  {
   "cell_type": "code",
   "execution_count": 82,
   "metadata": {},
   "outputs": [],
   "source": [
    "df_m_unq.y.to_csv('./data/train_image_y.txt', header=False, index=False)"
   ]
  },
  {
   "cell_type": "markdown",
   "metadata": {},
   "source": [
    "以下は使わない"
   ]
  },
  {
   "cell_type": "code",
   "execution_count": 16,
   "metadata": {},
   "outputs": [
    {
     "data": {
      "text/plain": [
       "array(['.\\\\Images\\\\windshield/windshield_08s.jpg',\n",
       "       '.\\\\Images\\\\mango/mango_13s.jpg',\n",
       "       '.\\\\Images\\\\brownie/brownie_08s.jpg', ...,\n",
       "       '.\\\\Images\\\\oilcan/oilcan_07s.jpg',\n",
       "       '.\\\\Images\\\\steamroller/steamroller_07n.jpg',\n",
       "       '.\\\\Images\\\\coffee_filter/coffee_filter_07s.jpg'], dtype=object)"
      ]
     },
     "execution_count": 16,
     "metadata": {},
     "output_type": "execute_result"
    }
   ],
   "source": [
    "df2=pd.read_csv('./data/val_image_paths_rev.txt', header=None)\n",
    "df2.columns=['fpath']\n",
    "df2['fpath']=df2['fpath'].map(lambda x: os.path.join(imfolder, x))\n",
    "df2=df2.fpath.unique()\n",
    "df2"
   ]
  },
  {
   "cell_type": "code",
   "execution_count": 18,
   "metadata": {},
   "outputs": [
    {
     "data": {
      "text/plain": [
       "(15032,)"
      ]
     },
     "execution_count": 18,
     "metadata": {},
     "output_type": "execute_result"
    }
   ],
   "source": [
    "df2.shape"
   ]
  },
  {
   "cell_type": "code",
   "execution_count": null,
   "metadata": {},
   "outputs": [],
   "source": [
    "for i, raw in enumerate(df2):\n",
    "    image = Image.open(raw)\n",
    "    image = image.resize((48,48))\n",
    "    image = np.array(image).astype(np.uint8).transpose(2, 1, 0)\n",
    "    image = torch.tensor(image)\n",
    "    if i==0:\n",
    "        image_ts = image\n",
    "    else:\n",
    "        image_ts = torch.cat((image_ts, image))"
   ]
  },
  {
   "cell_type": "code",
   "execution_count": null,
   "metadata": {},
   "outputs": [],
   "source": [
    "#torch.save(image_ts, './data/val_image.pt')"
   ]
  }
 ],
 "metadata": {
  "kernelspec": {
   "display_name": ".venv",
   "language": "python",
   "name": "python3"
  },
  "language_info": {
   "codemirror_mode": {
    "name": "ipython",
    "version": 3
   },
   "file_extension": ".py",
   "mimetype": "text/x-python",
   "name": "python",
   "nbconvert_exporter": "python",
   "pygments_lexer": "ipython3",
   "version": "3.11.9"
  }
 },
 "nbformat": 4,
 "nbformat_minor": 2
}
